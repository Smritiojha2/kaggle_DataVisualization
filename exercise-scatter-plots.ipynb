{
 "cells": [
  {
   "cell_type": "markdown",
   "id": "036e34e6",
   "metadata": {
    "papermill": {
     "duration": 0.034189,
     "end_time": "2022-03-28T17:27:25.120467",
     "exception": false,
     "start_time": "2022-03-28T17:27:25.086278",
     "status": "completed"
    },
    "tags": []
   },
   "source": [
    "**This notebook is an exercise in the [Data Visualization](https://www.kaggle.com/learn/data-visualization) course.  You can reference the tutorial at [this link](https://www.kaggle.com/alexisbcook/scatter-plots).**\n",
    "\n",
    "---\n"
   ]
  },
  {
   "cell_type": "markdown",
   "id": "63cefa66",
   "metadata": {
    "papermill": {
     "duration": 0.034502,
     "end_time": "2022-03-28T17:27:25.191303",
     "exception": false,
     "start_time": "2022-03-28T17:27:25.156801",
     "status": "completed"
    },
    "tags": []
   },
   "source": [
    "In this exercise, you will use your new knowledge to propose a solution to a real-world scenario.  To succeed, you will need to import data into Python, answer questions using the data, and generate **scatter plots** to understand patterns in the data.\n",
    "\n",
    "## Scenario\n",
    "\n",
    "You work for a major candy producer, and your goal is to write a report that your company can use to guide the design of its next product.  Soon after starting your research, you stumble across this [very interesting dataset](https://fivethirtyeight.com/features/the-ultimate-halloween-candy-power-ranking/) containing results from a fun survey to crowdsource favorite candies.\n",
    "\n",
    "## Setup\n",
    "\n",
    "Run the next cell to import and configure the Python libraries that you need to complete the exercise."
   ]
  },
  {
   "cell_type": "code",
   "execution_count": 1,
   "id": "a2588057",
   "metadata": {
    "execution": {
     "iopub.execute_input": "2022-03-28T17:27:25.261374Z",
     "iopub.status.busy": "2022-03-28T17:27:25.260124Z",
     "iopub.status.idle": "2022-03-28T17:27:26.679796Z",
     "shell.execute_reply": "2022-03-28T17:27:26.678928Z",
     "shell.execute_reply.started": "2022-03-28T17:21:58.184211Z"
    },
    "papermill": {
     "duration": 1.45625,
     "end_time": "2022-03-28T17:27:26.679974",
     "exception": false,
     "start_time": "2022-03-28T17:27:25.223724",
     "status": "completed"
    },
    "tags": []
   },
   "outputs": [
    {
     "name": "stdout",
     "output_type": "stream",
     "text": [
      "Setup Complete\n"
     ]
    }
   ],
   "source": [
    "import pandas as pd\n",
    "pd.plotting.register_matplotlib_converters()\n",
    "import matplotlib.pyplot as plt\n",
    "%matplotlib inline\n",
    "import seaborn as sns\n",
    "print(\"Setup Complete\")"
   ]
  },
  {
   "cell_type": "markdown",
   "id": "c004e7b2",
   "metadata": {
    "papermill": {
     "duration": 0.026249,
     "end_time": "2022-03-28T17:27:26.737116",
     "exception": false,
     "start_time": "2022-03-28T17:27:26.710867",
     "status": "completed"
    },
    "tags": []
   },
   "source": [
    "The questions below will give you feedback on your work. Run the following cell to set up our feedback system."
   ]
  },
  {
   "cell_type": "code",
   "execution_count": 2,
   "id": "c27426c4",
   "metadata": {
    "execution": {
     "iopub.execute_input": "2022-03-28T17:27:26.796529Z",
     "iopub.status.busy": "2022-03-28T17:27:26.794166Z",
     "iopub.status.idle": "2022-03-28T17:27:26.870741Z",
     "shell.execute_reply": "2022-03-28T17:27:26.871628Z",
     "shell.execute_reply.started": "2022-03-28T17:21:59.162434Z"
    },
    "papermill": {
     "duration": 0.10728,
     "end_time": "2022-03-28T17:27:26.871894",
     "exception": false,
     "start_time": "2022-03-28T17:27:26.764614",
     "status": "completed"
    },
    "tags": []
   },
   "outputs": [
    {
     "name": "stdout",
     "output_type": "stream",
     "text": [
      "Setup Complete\n"
     ]
    }
   ],
   "source": [
    "# Set up code checking\n",
    "import os\n",
    "if not os.path.exists(\"../input/candy.csv\"):\n",
    "    os.symlink(\"../input/data-for-datavis/candy.csv\", \"../input/candy.csv\") \n",
    "from learntools.core import binder\n",
    "binder.bind(globals())\n",
    "from learntools.data_viz_to_coder.ex4 import *\n",
    "print(\"Setup Complete\")"
   ]
  },
  {
   "cell_type": "markdown",
   "id": "8fdb9466",
   "metadata": {
    "papermill": {
     "duration": 0.030701,
     "end_time": "2022-03-28T17:27:26.930934",
     "exception": false,
     "start_time": "2022-03-28T17:27:26.900233",
     "status": "completed"
    },
    "tags": []
   },
   "source": [
    "## Step 1: Load the Data\n",
    "\n",
    "Read the candy data file into `candy_data`.  Use the `\"id\"` column to label the rows."
   ]
  },
  {
   "cell_type": "code",
   "execution_count": 3,
   "id": "4d42980b",
   "metadata": {
    "execution": {
     "iopub.execute_input": "2022-03-28T17:27:26.989967Z",
     "iopub.status.busy": "2022-03-28T17:27:26.989294Z",
     "iopub.status.idle": "2022-03-28T17:27:27.006923Z",
     "shell.execute_reply": "2022-03-28T17:27:27.007382Z",
     "shell.execute_reply.started": "2022-03-28T17:21:59.230663Z"
    },
    "papermill": {
     "duration": 0.048719,
     "end_time": "2022-03-28T17:27:27.007570",
     "exception": false,
     "start_time": "2022-03-28T17:27:26.958851",
     "status": "completed"
    },
    "tags": []
   },
   "outputs": [
    {
     "data": {
      "application/javascript": [
       "parent.postMessage({\"jupyterEvent\": \"custom.exercise_interaction\", \"data\": {\"outcomeType\": 1, \"valueTowardsCompletion\": 0.3333333333333333, \"interactionType\": 1, \"questionType\": 1, \"questionId\": \"1_LoadData\", \"learnToolsVersion\": \"0.3.4\", \"failureMessage\": \"\", \"exceptionClass\": \"\", \"trace\": \"\"}}, \"*\")"
      ],
      "text/plain": [
       "<IPython.core.display.Javascript object>"
      ]
     },
     "metadata": {},
     "output_type": "display_data"
    },
    {
     "data": {
      "text/markdown": [
       "<span style=\"color:#33cc33\">Correct</span>"
      ],
      "text/plain": [
       "Correct"
      ]
     },
     "metadata": {},
     "output_type": "display_data"
    }
   ],
   "source": [
    "# Path of the file to read\n",
    "candy_filepath = \"../input/candy.csv\"\n",
    "\n",
    "# Fill in the line below to read the file into a variable candy_data\n",
    "candy_data = pd.read_csv(candy_filepath, index_col='id')\n",
    "\n",
    "# Run the line below with no changes to check that you've loaded the data correctly\n",
    "step_1.check()"
   ]
  },
  {
   "cell_type": "code",
   "execution_count": 4,
   "id": "da2eb04a",
   "metadata": {
    "execution": {
     "iopub.execute_input": "2022-03-28T17:27:27.069197Z",
     "iopub.status.busy": "2022-03-28T17:27:27.068573Z",
     "iopub.status.idle": "2022-03-28T17:27:27.072057Z",
     "shell.execute_reply": "2022-03-28T17:27:27.072551Z",
     "shell.execute_reply.started": "2022-03-28T17:21:59.244267Z"
    },
    "papermill": {
     "duration": 0.036905,
     "end_time": "2022-03-28T17:27:27.072738",
     "exception": false,
     "start_time": "2022-03-28T17:27:27.035833",
     "status": "completed"
    },
    "tags": []
   },
   "outputs": [],
   "source": [
    "# Lines below will give you a hint or solution code\n",
    "#step_1.hint()\n",
    "#step_1.solution()"
   ]
  },
  {
   "cell_type": "markdown",
   "id": "f8f9fe63",
   "metadata": {
    "papermill": {
     "duration": 0.032504,
     "end_time": "2022-03-28T17:27:27.133365",
     "exception": false,
     "start_time": "2022-03-28T17:27:27.100861",
     "status": "completed"
    },
    "tags": []
   },
   "source": [
    "## Step 2: Review the data\n",
    "\n",
    "Use a Python command to print the first five rows of the data."
   ]
  },
  {
   "cell_type": "code",
   "execution_count": 5,
   "id": "43c3c139",
   "metadata": {
    "execution": {
     "iopub.execute_input": "2022-03-28T17:27:27.216942Z",
     "iopub.status.busy": "2022-03-28T17:27:27.215732Z",
     "iopub.status.idle": "2022-03-28T17:27:27.242201Z",
     "shell.execute_reply": "2022-03-28T17:27:27.242989Z",
     "shell.execute_reply.started": "2022-03-28T17:21:59.249721Z"
    },
    "papermill": {
     "duration": 0.068232,
     "end_time": "2022-03-28T17:27:27.243333",
     "exception": false,
     "start_time": "2022-03-28T17:27:27.175101",
     "status": "completed"
    },
    "tags": []
   },
   "outputs": [
    {
     "data": {
      "text/html": [
       "<div>\n",
       "<style scoped>\n",
       "    .dataframe tbody tr th:only-of-type {\n",
       "        vertical-align: middle;\n",
       "    }\n",
       "\n",
       "    .dataframe tbody tr th {\n",
       "        vertical-align: top;\n",
       "    }\n",
       "\n",
       "    .dataframe thead th {\n",
       "        text-align: right;\n",
       "    }\n",
       "</style>\n",
       "<table border=\"1\" class=\"dataframe\">\n",
       "  <thead>\n",
       "    <tr style=\"text-align: right;\">\n",
       "      <th></th>\n",
       "      <th>competitorname</th>\n",
       "      <th>chocolate</th>\n",
       "      <th>fruity</th>\n",
       "      <th>caramel</th>\n",
       "      <th>peanutyalmondy</th>\n",
       "      <th>nougat</th>\n",
       "      <th>crispedricewafer</th>\n",
       "      <th>hard</th>\n",
       "      <th>bar</th>\n",
       "      <th>pluribus</th>\n",
       "      <th>sugarpercent</th>\n",
       "      <th>pricepercent</th>\n",
       "      <th>winpercent</th>\n",
       "    </tr>\n",
       "    <tr>\n",
       "      <th>id</th>\n",
       "      <th></th>\n",
       "      <th></th>\n",
       "      <th></th>\n",
       "      <th></th>\n",
       "      <th></th>\n",
       "      <th></th>\n",
       "      <th></th>\n",
       "      <th></th>\n",
       "      <th></th>\n",
       "      <th></th>\n",
       "      <th></th>\n",
       "      <th></th>\n",
       "      <th></th>\n",
       "    </tr>\n",
       "  </thead>\n",
       "  <tbody>\n",
       "    <tr>\n",
       "      <th>0</th>\n",
       "      <td>100 Grand</td>\n",
       "      <td>Yes</td>\n",
       "      <td>No</td>\n",
       "      <td>Yes</td>\n",
       "      <td>No</td>\n",
       "      <td>No</td>\n",
       "      <td>Yes</td>\n",
       "      <td>No</td>\n",
       "      <td>Yes</td>\n",
       "      <td>No</td>\n",
       "      <td>0.732</td>\n",
       "      <td>0.860</td>\n",
       "      <td>66.971725</td>\n",
       "    </tr>\n",
       "    <tr>\n",
       "      <th>1</th>\n",
       "      <td>3 Musketeers</td>\n",
       "      <td>Yes</td>\n",
       "      <td>No</td>\n",
       "      <td>No</td>\n",
       "      <td>No</td>\n",
       "      <td>Yes</td>\n",
       "      <td>No</td>\n",
       "      <td>No</td>\n",
       "      <td>Yes</td>\n",
       "      <td>No</td>\n",
       "      <td>0.604</td>\n",
       "      <td>0.511</td>\n",
       "      <td>67.602936</td>\n",
       "    </tr>\n",
       "    <tr>\n",
       "      <th>2</th>\n",
       "      <td>Air Heads</td>\n",
       "      <td>No</td>\n",
       "      <td>Yes</td>\n",
       "      <td>No</td>\n",
       "      <td>No</td>\n",
       "      <td>No</td>\n",
       "      <td>No</td>\n",
       "      <td>No</td>\n",
       "      <td>No</td>\n",
       "      <td>No</td>\n",
       "      <td>0.906</td>\n",
       "      <td>0.511</td>\n",
       "      <td>52.341465</td>\n",
       "    </tr>\n",
       "    <tr>\n",
       "      <th>3</th>\n",
       "      <td>Almond Joy</td>\n",
       "      <td>Yes</td>\n",
       "      <td>No</td>\n",
       "      <td>No</td>\n",
       "      <td>Yes</td>\n",
       "      <td>No</td>\n",
       "      <td>No</td>\n",
       "      <td>No</td>\n",
       "      <td>Yes</td>\n",
       "      <td>No</td>\n",
       "      <td>0.465</td>\n",
       "      <td>0.767</td>\n",
       "      <td>50.347546</td>\n",
       "    </tr>\n",
       "    <tr>\n",
       "      <th>4</th>\n",
       "      <td>Baby Ruth</td>\n",
       "      <td>Yes</td>\n",
       "      <td>No</td>\n",
       "      <td>Yes</td>\n",
       "      <td>Yes</td>\n",
       "      <td>Yes</td>\n",
       "      <td>No</td>\n",
       "      <td>No</td>\n",
       "      <td>Yes</td>\n",
       "      <td>No</td>\n",
       "      <td>0.604</td>\n",
       "      <td>0.767</td>\n",
       "      <td>56.914547</td>\n",
       "    </tr>\n",
       "  </tbody>\n",
       "</table>\n",
       "</div>"
      ],
      "text/plain": [
       "   competitorname chocolate fruity caramel peanutyalmondy nougat  \\\n",
       "id                                                                 \n",
       "0       100 Grand       Yes     No     Yes             No     No   \n",
       "1    3 Musketeers       Yes     No      No             No    Yes   \n",
       "2       Air Heads        No    Yes      No             No     No   \n",
       "3      Almond Joy       Yes     No      No            Yes     No   \n",
       "4       Baby Ruth       Yes     No     Yes            Yes    Yes   \n",
       "\n",
       "   crispedricewafer hard  bar pluribus  sugarpercent  pricepercent  winpercent  \n",
       "id                                                                              \n",
       "0               Yes   No  Yes       No         0.732         0.860   66.971725  \n",
       "1                No   No  Yes       No         0.604         0.511   67.602936  \n",
       "2                No   No   No       No         0.906         0.511   52.341465  \n",
       "3                No   No  Yes       No         0.465         0.767   50.347546  \n",
       "4                No   No  Yes       No         0.604         0.767   56.914547  "
      ]
     },
     "execution_count": 5,
     "metadata": {},
     "output_type": "execute_result"
    }
   ],
   "source": [
    "# Print the first five rows of the data\n",
    "candy_data.head() # Your code here"
   ]
  },
  {
   "cell_type": "markdown",
   "id": "ec3c4f69",
   "metadata": {
    "papermill": {
     "duration": 0.03376,
     "end_time": "2022-03-28T17:27:27.311364",
     "exception": false,
     "start_time": "2022-03-28T17:27:27.277604",
     "status": "completed"
    },
    "tags": []
   },
   "source": [
    "The dataset contains 83 rows, where each corresponds to a different candy bar.  There are 13 columns:\n",
    "- `'competitorname'` contains the name of the candy bar. \n",
    "- the next **9** columns (from `'chocolate'` to `'pluribus'`) describe the candy.  For instance, rows with chocolate candies have `\"Yes\"` in the `'chocolate'` column (and candies without chocolate have `\"No\"` in the same column).\n",
    "- `'sugarpercent'` provides some indication of the amount of sugar, where higher values signify higher sugar content.\n",
    "- `'pricepercent'` shows the price per unit, relative to the other candies in the dataset.\n",
    "- `'winpercent'` is calculated from the survey results; higher values indicate that the candy was more popular with survey respondents.\n",
    "\n",
    "Use the first five rows of the data to answer the questions below."
   ]
  },
  {
   "cell_type": "code",
   "execution_count": 6,
   "id": "6a746b98",
   "metadata": {
    "execution": {
     "iopub.execute_input": "2022-03-28T17:27:27.383318Z",
     "iopub.status.busy": "2022-03-28T17:27:27.382323Z",
     "iopub.status.idle": "2022-03-28T17:27:27.391112Z",
     "shell.execute_reply": "2022-03-28T17:27:27.391983Z",
     "shell.execute_reply.started": "2022-03-28T17:21:59.273802Z"
    },
    "papermill": {
     "duration": 0.048232,
     "end_time": "2022-03-28T17:27:27.392227",
     "exception": false,
     "start_time": "2022-03-28T17:27:27.343995",
     "status": "completed"
    },
    "tags": []
   },
   "outputs": [
    {
     "data": {
      "application/javascript": [
       "parent.postMessage({\"jupyterEvent\": \"custom.exercise_interaction\", \"data\": {\"outcomeType\": 1, \"valueTowardsCompletion\": 0.3333333333333333, \"interactionType\": 1, \"questionType\": 1, \"questionId\": \"2_ReviewData\", \"learnToolsVersion\": \"0.3.4\", \"failureMessage\": \"\", \"exceptionClass\": \"\", \"trace\": \"\"}}, \"*\")"
      ],
      "text/plain": [
       "<IPython.core.display.Javascript object>"
      ]
     },
     "metadata": {},
     "output_type": "display_data"
    },
    {
     "data": {
      "text/markdown": [
       "<span style=\"color:#33cc33\">Correct</span>"
      ],
      "text/plain": [
       "Correct"
      ]
     },
     "metadata": {},
     "output_type": "display_data"
    }
   ],
   "source": [
    "# Fill in the line below: Which candy was more popular with survey respondents:\n",
    "# '3 Musketeers' or 'Almond Joy'?  (Please enclose your answer in single quotes.)\n",
    "more_popular = '3 Musketeers'\n",
    "\n",
    "# Fill in the line below: Which candy has higher sugar content: 'Air Heads'\n",
    "# or 'Baby Ruth'? (Please enclose your answer in single quotes.)\n",
    "more_sugar = 'Air Heads'\n",
    "\n",
    "# Check your answers\n",
    "step_2.check()"
   ]
  },
  {
   "cell_type": "code",
   "execution_count": 7,
   "id": "268318de",
   "metadata": {
    "execution": {
     "iopub.execute_input": "2022-03-28T17:27:27.468961Z",
     "iopub.status.busy": "2022-03-28T17:27:27.468286Z",
     "iopub.status.idle": "2022-03-28T17:27:27.471280Z",
     "shell.execute_reply": "2022-03-28T17:27:27.471946Z",
     "shell.execute_reply.started": "2022-03-28T17:21:59.280825Z"
    },
    "papermill": {
     "duration": 0.040389,
     "end_time": "2022-03-28T17:27:27.472160",
     "exception": false,
     "start_time": "2022-03-28T17:27:27.431771",
     "status": "completed"
    },
    "tags": []
   },
   "outputs": [],
   "source": [
    "# Lines below will give you a hint or solution code\n",
    "#step_2.hint()\n",
    "#step_2.solution()"
   ]
  },
  {
   "cell_type": "markdown",
   "id": "9338f976",
   "metadata": {
    "papermill": {
     "duration": 0.035828,
     "end_time": "2022-03-28T17:27:27.540462",
     "exception": false,
     "start_time": "2022-03-28T17:27:27.504634",
     "status": "completed"
    },
    "tags": []
   },
   "source": [
    "## Step 3: The role of sugar\n",
    "\n",
    "Do people tend to prefer candies with higher sugar content?  \n",
    "\n",
    "#### Part A\n",
    "\n",
    "Create a scatter plot that shows the relationship between `'sugarpercent'` (on the horizontal x-axis) and `'winpercent'` (on the vertical y-axis).  _Don't add a regression line just yet -- you'll do that in the next step!_"
   ]
  },
  {
   "cell_type": "code",
   "execution_count": 8,
   "id": "95a45f91",
   "metadata": {
    "execution": {
     "iopub.execute_input": "2022-03-28T17:27:27.611699Z",
     "iopub.status.busy": "2022-03-28T17:27:27.610988Z",
     "iopub.status.idle": "2022-03-28T17:27:27.904834Z",
     "shell.execute_reply": "2022-03-28T17:27:27.905857Z",
     "shell.execute_reply.started": "2022-03-28T17:21:59.290496Z"
    },
    "papermill": {
     "duration": 0.331747,
     "end_time": "2022-03-28T17:27:27.907424",
     "exception": false,
     "start_time": "2022-03-28T17:27:27.575677",
     "status": "completed"
    },
    "tags": []
   },
   "outputs": [
    {
     "data": {
      "application/javascript": [
       "parent.postMessage({\"jupyterEvent\": \"custom.exercise_interaction\", \"data\": {\"outcomeType\": 1, \"valueTowardsCompletion\": 0.3333333333333333, \"interactionType\": 1, \"questionType\": 2, \"questionId\": \"3.1_PlotBlueScatter\", \"learnToolsVersion\": \"0.3.4\", \"failureMessage\": \"\", \"exceptionClass\": \"\", \"trace\": \"\"}}, \"*\")"
      ],
      "text/plain": [
       "<IPython.core.display.Javascript object>"
      ]
     },
     "metadata": {},
     "output_type": "display_data"
    },
    {
     "data": {
      "text/markdown": [
       "<span style=\"color:#33cc33\">Correct</span>"
      ],
      "text/plain": [
       "Correct"
      ]
     },
     "metadata": {},
     "output_type": "display_data"
    },
    {
     "data": {
      "image/png": "[encoded data removed]",
      "text/plain": [
       "<Figure size 432x288 with 1 Axes>"
      ]
     },
     "metadata": {
      "needs_background": "light"
     },
     "output_type": "display_data"
    }
   ],
   "source": [
    "# Scatter plot showing the relationship between 'sugarpercent' and 'winpercent'\n",
    "sns.scatterplot(x=candy_data['sugarpercent'],y=candy_data['winpercent']) # Your code here\n",
    "\n",
    "# Check your answer\n",
    "step_3.a.check()"
   ]
  },
  {
   "cell_type": "code",
   "execution_count": 9,
   "id": "350014af",
   "metadata": {
    "execution": {
     "iopub.execute_input": "2022-03-28T17:27:28.017437Z",
     "iopub.status.busy": "2022-03-28T17:27:28.016000Z",
     "iopub.status.idle": "2022-03-28T17:27:28.018366Z",
     "shell.execute_reply": "2022-03-28T17:27:28.018949Z",
     "shell.execute_reply.started": "2022-03-28T17:21:59.520714Z"
    },
    "papermill": {
     "duration": 0.050708,
     "end_time": "2022-03-28T17:27:28.019133",
     "exception": false,
     "start_time": "2022-03-28T17:27:27.968425",
     "status": "completed"
    },
    "tags": []
   },
   "outputs": [],
   "source": [
    "# Lines below will give you a hint or solution code\n",
    "#step_3.a.hint()\n",
    "#step_3.a.solution_plot()"
   ]
  },
  {
   "cell_type": "markdown",
   "id": "61d0cc17",
   "metadata": {
    "papermill": {
     "duration": 0.037088,
     "end_time": "2022-03-28T17:27:28.097561",
     "exception": false,
     "start_time": "2022-03-28T17:27:28.060473",
     "status": "completed"
    },
    "tags": []
   },
   "source": [
    "#### Part B\n",
    "\n",
    "Does the scatter plot show a **strong** correlation between the two variables?  If so, are candies with more sugar relatively more or less popular with the survey respondents?"
   ]
  },
  {
   "cell_type": "code",
   "execution_count": 10,
   "id": "ebcf175d",
   "metadata": {
    "execution": {
     "iopub.execute_input": "2022-03-28T17:27:28.181727Z",
     "iopub.status.busy": "2022-03-28T17:27:28.180818Z",
     "iopub.status.idle": "2022-03-28T17:27:28.184007Z",
     "shell.execute_reply": "2022-03-28T17:27:28.187531Z",
     "shell.execute_reply.started": "2022-03-28T17:21:59.527361Z"
    },
    "papermill": {
     "duration": 0.053059,
     "end_time": "2022-03-28T17:27:28.189168",
     "exception": false,
     "start_time": "2022-03-28T17:27:28.136109",
     "status": "completed"
    },
    "tags": []
   },
   "outputs": [],
   "source": [
    "#step_3.b.hint()"
   ]
  },
  {
   "cell_type": "code",
   "execution_count": 11,
   "id": "7722d6e8",
   "metadata": {
    "execution": {
     "iopub.execute_input": "2022-03-28T17:27:28.270741Z",
     "iopub.status.busy": "2022-03-28T17:27:28.269828Z",
     "iopub.status.idle": "2022-03-28T17:27:28.278796Z",
     "shell.execute_reply": "2022-03-28T17:27:28.279376Z",
     "shell.execute_reply.started": "2022-03-28T17:21:59.538355Z"
    },
    "papermill": {
     "duration": 0.049037,
     "end_time": "2022-03-28T17:27:28.279609",
     "exception": false,
     "start_time": "2022-03-28T17:27:28.230572",
     "status": "completed"
    },
    "tags": []
   },
   "outputs": [
    {
     "data": {
      "application/javascript": [
       "parent.postMessage({\"jupyterEvent\": \"custom.exercise_interaction\", \"data\": {\"interactionType\": 3, \"questionType\": 4, \"questionId\": \"3.2_ThinkBlueScatter\", \"learnToolsVersion\": \"0.3.4\", \"valueTowardsCompletion\": 0.0, \"failureMessage\": \"\", \"exceptionClass\": \"\", \"trace\": \"\", \"outcomeType\": 4}}, \"*\")"
      ],
      "text/plain": [
       "<IPython.core.display.Javascript object>"
      ]
     },
     "metadata": {},
     "output_type": "display_data"
    },
    {
     "data": {
      "text/markdown": [
       "<span style=\"color:#33cc99\">Solution:</span> The scatter plot does not show a strong correlation between the two variables. Since there is no clear relationship between the two variables, this tells us that sugar content does not play a strong role in candy popularity."
      ],
      "text/plain": [
       "Solution: The scatter plot does not show a strong correlation between the two variables. Since there is no clear relationship between the two variables, this tells us that sugar content does not play a strong role in candy popularity."
      ]
     },
     "metadata": {},
     "output_type": "display_data"
    }
   ],
   "source": [
    "# Check your answer (Run this code cell to receive credit!)\n",
    "step_3.b.solution()"
   ]
  },
  {
   "cell_type": "markdown",
   "id": "7352dec8",
   "metadata": {
    "papermill": {
     "duration": 0.055611,
     "end_time": "2022-03-28T17:27:28.379224",
     "exception": false,
     "start_time": "2022-03-28T17:27:28.323613",
     "status": "completed"
    },
    "tags": []
   },
   "source": [
    "## Step 4: Take a closer look\n",
    "\n",
    "#### Part A\n",
    "\n",
    "Create the same scatter plot you created in **Step 3**, but now with a regression line!"
   ]
  },
  {
   "cell_type": "code",
   "execution_count": 12,
   "id": "0d5f1a44",
   "metadata": {
    "execution": {
     "iopub.execute_input": "2022-03-28T17:27:28.491610Z",
     "iopub.status.busy": "2022-03-28T17:27:28.490655Z",
     "iopub.status.idle": "2022-03-28T17:27:28.978824Z",
     "shell.execute_reply": "2022-03-28T17:27:28.977700Z",
     "shell.execute_reply.started": "2022-03-28T17:21:59.552084Z"
    },
    "papermill": {
     "duration": 0.550278,
     "end_time": "2022-03-28T17:27:28.979071",
     "exception": false,
     "start_time": "2022-03-28T17:27:28.428793",
     "status": "completed"
    },
    "tags": []
   },
   "outputs": [
    {
     "data": {
      "application/javascript": [
       "parent.postMessage({\"jupyterEvent\": \"custom.exercise_interaction\", \"data\": {\"outcomeType\": 1, \"valueTowardsCompletion\": 0.3333333333333333, \"interactionType\": 1, \"questionType\": 2, \"questionId\": \"4.1_PlotBlueReg\", \"learnToolsVersion\": \"0.3.4\", \"failureMessage\": \"\", \"exceptionClass\": \"\", \"trace\": \"\"}}, \"*\")"
      ],
      "text/plain": [
       "<IPython.core.display.Javascript object>"
      ]
     },
     "metadata": {},
     "output_type": "display_data"
    },
    {
     "data": {
      "text/markdown": [
       "<span style=\"color:#33cc33\">Correct</span>"
      ],
      "text/plain": [
       "Correct"
      ]
     },
     "metadata": {},
     "output_type": "display_data"
    },
    {
     "data": {
      "image/png": "[encoded data removed]",
      "text/plain": [
       "<Figure size 432x288 with 1 Axes>"
      ]
     },
     "metadata": {
      "needs_background": "light"
     },
     "output_type": "display_data"
    }
   ],
   "source": [
    "# Scatter plot w/ regression line showing the relationship between 'sugarpercent' and 'winpercent'\n",
    "sns.regplot(x=candy_data['sugarpercent'],y=candy_data['winpercent'])\n",
    "# Check your answer\n",
    "step_4.a.check()"
   ]
  },
  {
   "cell_type": "code",
   "execution_count": 13,
   "id": "015f03c3",
   "metadata": {
    "execution": {
     "iopub.execute_input": "2022-03-28T17:27:29.099710Z",
     "iopub.status.busy": "2022-03-28T17:27:29.098850Z",
     "iopub.status.idle": "2022-03-28T17:27:29.102165Z",
     "shell.execute_reply": "2022-03-28T17:27:29.102956Z",
     "shell.execute_reply.started": "2022-03-28T17:21:59.854160Z"
    },
    "papermill": {
     "duration": 0.063912,
     "end_time": "2022-03-28T17:27:29.103183",
     "exception": false,
     "start_time": "2022-03-28T17:27:29.039271",
     "status": "completed"
    },
    "tags": []
   },
   "outputs": [],
   "source": [
    "# Lines below will give you a hint or solution code\n",
    "#step_4.a.hint()\n",
    "#step_4.a.solution_plot()"
   ]
  },
  {
   "cell_type": "markdown",
   "id": "d1f2ebe3",
   "metadata": {
    "papermill": {
     "duration": 0.056401,
     "end_time": "2022-03-28T17:27:29.215126",
     "exception": false,
     "start_time": "2022-03-28T17:27:29.158725",
     "status": "completed"
    },
    "tags": []
   },
   "source": [
    "#### Part B\n",
    "\n",
    "According to the plot above, is there a **slight** correlation between `'winpercent'` and `'sugarpercent'`?  What does this tell you about the candy that people tend to prefer?"
   ]
  },
  {
   "cell_type": "code",
   "execution_count": 14,
   "id": "362b6836",
   "metadata": {
    "execution": {
     "iopub.execute_input": "2022-03-28T17:27:29.334035Z",
     "iopub.status.busy": "2022-03-28T17:27:29.333140Z",
     "iopub.status.idle": "2022-03-28T17:27:29.336598Z",
     "shell.execute_reply": "2022-03-28T17:27:29.337417Z",
     "shell.execute_reply.started": "2022-03-28T17:21:59.859189Z"
    },
    "papermill": {
     "duration": 0.066926,
     "end_time": "2022-03-28T17:27:29.337659",
     "exception": false,
     "start_time": "2022-03-28T17:27:29.270733",
     "status": "completed"
    },
    "tags": []
   },
   "outputs": [],
   "source": [
    "#step_4.b.hint()"
   ]
  },
  {
   "cell_type": "code",
   "execution_count": 15,
   "id": "aa5a0280",
   "metadata": {
    "execution": {
     "iopub.execute_input": "2022-03-28T17:27:29.456075Z",
     "iopub.status.busy": "2022-03-28T17:27:29.454993Z",
     "iopub.status.idle": "2022-03-28T17:27:29.467065Z",
     "shell.execute_reply": "2022-03-28T17:27:29.467720Z",
     "shell.execute_reply.started": "2022-03-28T17:21:59.871517Z"
    },
    "papermill": {
     "duration": 0.072755,
     "end_time": "2022-03-28T17:27:29.467965",
     "exception": false,
     "start_time": "2022-03-28T17:27:29.395210",
     "status": "completed"
    },
    "tags": []
   },
   "outputs": [
    {
     "data": {
      "application/javascript": [
       "parent.postMessage({\"jupyterEvent\": \"custom.exercise_interaction\", \"data\": {\"interactionType\": 3, \"questionType\": 4, \"questionId\": \"4.2_ThinkBlueReg\", \"learnToolsVersion\": \"0.3.4\", \"valueTowardsCompletion\": 0.0, \"failureMessage\": \"\", \"exceptionClass\": \"\", \"trace\": \"\", \"outcomeType\": 4}}, \"*\")"
      ],
      "text/plain": [
       "<IPython.core.display.Javascript object>"
      ]
     },
     "metadata": {},
     "output_type": "display_data"
    },
    {
     "data": {
      "text/markdown": [
       "<span style=\"color:#33cc99\">Solution:</span> Since the regression line has a slightly positive slope, this tells us that there is a slightly positive correlation between `'winpercent'` and `'sugarpercent'`. Thus, people have a slight preference for candies containing relatively more sugar."
      ],
      "text/plain": [
       "Solution: Since the regression line has a slightly positive slope, this tells us that there is a slightly positive correlation between `'winpercent'` and `'sugarpercent'`. Thus, people have a slight preference for candies containing relatively more sugar."
      ]
     },
     "metadata": {},
     "output_type": "display_data"
    }
   ],
   "source": [
    "# Check your answer (Run this code cell to receive credit!)\n",
    "step_4.b.solution()"
   ]
  },
  {
   "cell_type": "markdown",
   "id": "15457edc",
   "metadata": {
    "papermill": {
     "duration": 0.056629,
     "end_time": "2022-03-28T17:27:29.582003",
     "exception": false,
     "start_time": "2022-03-28T17:27:29.525374",
     "status": "completed"
    },
    "tags": []
   },
   "source": [
    "## Step 5: Chocolate!\n",
    "\n",
    "In the code cell below, create a scatter plot to show the relationship between `'pricepercent'` (on the horizontal x-axis) and `'winpercent'` (on the vertical y-axis). Use the `'chocolate'` column to color-code the points.  _Don't add any regression lines just yet -- you'll do that in the next step!_"
   ]
  },
  {
   "cell_type": "code",
   "execution_count": 16,
   "id": "6d558377",
   "metadata": {
    "execution": {
     "iopub.execute_input": "2022-03-28T17:27:29.711196Z",
     "iopub.status.busy": "2022-03-28T17:27:29.710593Z",
     "iopub.status.idle": "2022-03-28T17:27:30.072924Z",
     "shell.execute_reply": "2022-03-28T17:27:30.072026Z",
     "shell.execute_reply.started": "2022-03-28T17:21:59.887483Z"
    },
    "papermill": {
     "duration": 0.434518,
     "end_time": "2022-03-28T17:27:30.073130",
     "exception": false,
     "start_time": "2022-03-28T17:27:29.638612",
     "status": "completed"
    },
    "tags": []
   },
   "outputs": [
    {
     "data": {
      "application/javascript": [
       "parent.postMessage({\"jupyterEvent\": \"custom.exercise_interaction\", \"data\": {\"outcomeType\": 1, \"valueTowardsCompletion\": 0.3333333333333333, \"interactionType\": 1, \"questionType\": 2, \"questionId\": \"5_ColorScatter\", \"learnToolsVersion\": \"0.3.4\", \"failureMessage\": \"\", \"exceptionClass\": \"\", \"trace\": \"\"}}, \"*\")"
      ],
      "text/plain": [
       "<IPython.core.display.Javascript object>"
      ]
     },
     "metadata": {},
     "output_type": "display_data"
    },
    {
     "data": {
      "text/markdown": [
       "<span style=\"color:#33cc33\">Correct</span>"
      ],
      "text/plain": [
       "Correct"
      ]
     },
     "metadata": {},
     "output_type": "display_data"
    },
    {
     "data": {
      "image/png": "[encoded data removed]",
      "text/plain": [
       "<Figure size 432x288 with 1 Axes>"
      ]
     },
     "metadata": {
      "needs_background": "light"
     },
     "output_type": "display_data"
    }
   ],
   "source": [
    "# Scatter plot showing the relationship between 'pricepercent', 'winpercent', and 'chocolate'\n",
    "\n",
    "# Your code here\n",
    "sns.scatterplot(x= candy_data['pricepercent'],y= candy_data['winpercent'],hue= candy_data['chocolate'])\n",
    "# Check your answer\n",
    "step_5.check()"
   ]
  },
  {
   "cell_type": "code",
   "execution_count": 17,
   "id": "7cc61a53",
   "metadata": {
    "execution": {
     "iopub.execute_input": "2022-03-28T17:27:30.202048Z",
     "iopub.status.busy": "2022-03-28T17:27:30.201169Z",
     "iopub.status.idle": "2022-03-28T17:27:30.204469Z",
     "shell.execute_reply": "2022-03-28T17:27:30.205120Z",
     "shell.execute_reply.started": "2022-03-28T17:22:00.154313Z"
    },
    "papermill": {
     "duration": 0.068367,
     "end_time": "2022-03-28T17:27:30.205346",
     "exception": false,
     "start_time": "2022-03-28T17:27:30.136979",
     "status": "completed"
    },
    "tags": []
   },
   "outputs": [],
   "source": [
    "# Lines below will give you a hint or solution code\n",
    "#step_5.hint()\n",
    "#step_5.solution_plot()"
   ]
  },
  {
   "cell_type": "markdown",
   "id": "f73a7775",
   "metadata": {
    "papermill": {
     "duration": 0.064065,
     "end_time": "2022-03-28T17:27:30.329602",
     "exception": false,
     "start_time": "2022-03-28T17:27:30.265537",
     "status": "completed"
    },
    "tags": []
   },
   "source": [
    "Can you see any interesting patterns in the scatter plot?  We'll investigate this plot further  by adding regression lines in the next step!\n",
    "\n",
    "## Step 6: Investigate chocolate\n",
    "\n",
    "#### Part A\n",
    "\n",
    "Create the same scatter plot you created in **Step 5**, but now with two regression lines, corresponding to (1) chocolate candies and (2) candies without chocolate."
   ]
  },
  {
   "cell_type": "code",
   "execution_count": 18,
   "id": "749b5020",
   "metadata": {
    "execution": {
     "iopub.execute_input": "2022-03-28T17:27:30.456296Z",
     "iopub.status.busy": "2022-03-28T17:27:30.455414Z",
     "iopub.status.idle": "2022-03-28T17:27:31.085064Z",
     "shell.execute_reply": "2022-03-28T17:27:31.084424Z",
     "shell.execute_reply.started": "2022-03-28T17:24:52.783640Z"
    },
    "papermill": {
     "duration": 0.695261,
     "end_time": "2022-03-28T17:27:31.085197",
     "exception": false,
     "start_time": "2022-03-28T17:27:30.389936",
     "status": "completed"
    },
    "tags": []
   },
   "outputs": [
    {
     "data": {
      "application/javascript": [
       "parent.postMessage({\"jupyterEvent\": \"custom.exercise_interaction\", \"data\": {\"outcomeType\": 1, \"valueTowardsCompletion\": 0.3333333333333333, \"interactionType\": 1, \"questionType\": 2, \"questionId\": \"6.1_PlotColorReg\", \"learnToolsVersion\": \"0.3.4\", \"failureMessage\": \"\", \"exceptionClass\": \"\", \"trace\": \"\"}}, \"*\")"
      ],
      "text/plain": [
       "<IPython.core.display.Javascript object>"
      ]
     },
     "metadata": {},
     "output_type": "display_data"
    },
    {
     "data": {
      "text/markdown": [
       "<span style=\"color:#33cc33\">Correct</span>"
      ],
      "text/plain": [
       "Correct"
      ]
     },
     "metadata": {},
     "output_type": "display_data"
    },
    {
     "data": {
      "image/png": "[encoded data removed]",
      "text/plain": [
       "<Figure size 416.375x360 with 1 Axes>"
      ]
     },
     "metadata": {
      "needs_background": "light"
     },
     "output_type": "display_data"
    }
   ],
   "source": [
    "\n",
    "# Your code here\n",
    "sns.lmplot(x=\"pricepercent\", y=\"winpercent\", hue=\"chocolate\", data=candy_data)\n",
    "# Check your answer\n",
    "step_6.a.check()"
   ]
  },
  {
   "cell_type": "code",
   "execution_count": 19,
   "id": "b723e064",
   "metadata": {
    "execution": {
     "iopub.execute_input": "2022-03-28T17:27:31.167065Z",
     "iopub.status.busy": "2022-03-28T17:27:31.166422Z",
     "iopub.status.idle": "2022-03-28T17:27:31.169639Z",
     "shell.execute_reply": "2022-03-28T17:27:31.169159Z",
     "shell.execute_reply.started": "2022-03-28T17:22:00.176373Z"
    },
    "papermill": {
     "duration": 0.045644,
     "end_time": "2022-03-28T17:27:31.169781",
     "exception": false,
     "start_time": "2022-03-28T17:27:31.124137",
     "status": "completed"
    },
    "tags": []
   },
   "outputs": [],
   "source": [
    "# Lines below will give you a hint or solution code\n",
    "#step_6.a.hint()\n",
    "#step_6.a.solution_plot()"
   ]
  },
  {
   "cell_type": "markdown",
   "id": "3010f74a",
   "metadata": {
    "papermill": {
     "duration": 0.037867,
     "end_time": "2022-03-28T17:27:31.246493",
     "exception": false,
     "start_time": "2022-03-28T17:27:31.208626",
     "status": "completed"
    },
    "tags": []
   },
   "source": [
    "#### Part B\n",
    "\n",
    "Using the regression lines, what conclusions can you draw about the effects of chocolate and price on candy popularity?"
   ]
  },
  {
   "cell_type": "code",
   "execution_count": 20,
   "id": "56eb343e",
   "metadata": {
    "execution": {
     "iopub.execute_input": "2022-03-28T17:27:31.330118Z",
     "iopub.status.busy": "2022-03-28T17:27:31.329454Z",
     "iopub.status.idle": "2022-03-28T17:27:31.331730Z",
     "shell.execute_reply": "2022-03-28T17:27:31.331150Z",
     "shell.execute_reply.started": "2022-03-28T17:22:00.183583Z"
    },
    "papermill": {
     "duration": 0.04718,
     "end_time": "2022-03-28T17:27:31.331867",
     "exception": false,
     "start_time": "2022-03-28T17:27:31.284687",
     "status": "completed"
    },
    "tags": []
   },
   "outputs": [],
   "source": [
    "#step_6.b.hint()"
   ]
  },
  {
   "cell_type": "code",
   "execution_count": 21,
   "id": "01e30d51",
   "metadata": {
    "execution": {
     "iopub.execute_input": "2022-03-28T17:27:31.414159Z",
     "iopub.status.busy": "2022-03-28T17:27:31.413524Z",
     "iopub.status.idle": "2022-03-28T17:27:31.419150Z",
     "shell.execute_reply": "2022-03-28T17:27:31.419611Z",
     "shell.execute_reply.started": "2022-03-28T17:25:06.833196Z"
    },
    "papermill": {
     "duration": 0.049896,
     "end_time": "2022-03-28T17:27:31.419787",
     "exception": false,
     "start_time": "2022-03-28T17:27:31.369891",
     "status": "completed"
    },
    "tags": []
   },
   "outputs": [
    {
     "data": {
      "application/javascript": [
       "parent.postMessage({\"jupyterEvent\": \"custom.exercise_interaction\", \"data\": {\"interactionType\": 3, \"questionType\": 4, \"questionId\": \"6.2_ThinkColorReg\", \"learnToolsVersion\": \"0.3.4\", \"valueTowardsCompletion\": 0.0, \"failureMessage\": \"\", \"exceptionClass\": \"\", \"trace\": \"\", \"outcomeType\": 4}}, \"*\")"
      ],
      "text/plain": [
       "<IPython.core.display.Javascript object>"
      ]
     },
     "metadata": {},
     "output_type": "display_data"
    },
    {
     "data": {
      "text/markdown": [
       "<span style=\"color:#33cc99\">Solution:</span> We'll begin with the regression line for chocolate candies. Since this line has a slightly positive slope, we can say that more expensive chocolate candies tend to be more popular (than relatively cheaper chocolate candies).  Likewise, since the regression line for candies without chocolate has a negative slope, we can say that if candies don't contain chocolate, they tend to be more popular when they are cheaper.  One important note, however, is that the dataset is quite small -- so we shouldn't invest too much trust in these patterns!  To inspire more confidence in the results, we should add more candies to the dataset."
      ],
      "text/plain": [
       "Solution: We'll begin with the regression line for chocolate candies. Since this line has a slightly positive slope, we can say that more expensive chocolate candies tend to be more popular (than relatively cheaper chocolate candies).  Likewise, since the regression line for candies without chocolate has a negative slope, we can say that if candies don't contain chocolate, they tend to be more popular when they are cheaper.  One important note, however, is that the dataset is quite small -- so we shouldn't invest too much trust in these patterns!  To inspire more confidence in the results, we should add more candies to the dataset."
      ]
     },
     "metadata": {},
     "output_type": "display_data"
    }
   ],
   "source": [
    "# Check your answer (Run this code cell to receive credit!)\n",
    "step_6.b.solution()"
   ]
  },
  {
   "cell_type": "markdown",
   "id": "42544a8d",
   "metadata": {
    "papermill": {
     "duration": 0.040112,
     "end_time": "2022-03-28T17:27:31.501449",
     "exception": false,
     "start_time": "2022-03-28T17:27:31.461337",
     "status": "completed"
    },
    "tags": []
   },
   "source": [
    "## Step 7: Everybody loves chocolate.\n",
    "\n",
    "#### Part A\n",
    "\n",
    "Create a categorical scatter plot to highlight the relationship between `'chocolate'` and `'winpercent'`.  Put `'chocolate'` on the (horizontal) x-axis, and `'winpercent'` on the (vertical) y-axis."
   ]
  },
  {
   "cell_type": "code",
   "execution_count": 22,
   "id": "029359b4",
   "metadata": {
    "execution": {
     "iopub.execute_input": "2022-03-28T17:27:31.596421Z",
     "iopub.status.busy": "2022-03-28T17:27:31.595684Z",
     "iopub.status.idle": "2022-03-28T17:27:31.794136Z",
     "shell.execute_reply": "2022-03-28T17:27:31.793574Z",
     "shell.execute_reply.started": "2022-03-28T17:26:34.412574Z"
    },
    "papermill": {
     "duration": 0.248821,
     "end_time": "2022-03-28T17:27:31.794314",
     "exception": false,
     "start_time": "2022-03-28T17:27:31.545493",
     "status": "completed"
    },
    "tags": []
   },
   "outputs": [
    {
     "data": {
      "application/javascript": [
       "parent.postMessage({\"jupyterEvent\": \"custom.exercise_interaction\", \"data\": {\"outcomeType\": 1, \"valueTowardsCompletion\": 0.3333333333333333, \"interactionType\": 1, \"questionType\": 2, \"questionId\": \"7.1_PlotSwarm\", \"learnToolsVersion\": \"0.3.4\", \"failureMessage\": \"\", \"exceptionClass\": \"\", \"trace\": \"\"}}, \"*\")"
      ],
      "text/plain": [
       "<IPython.core.display.Javascript object>"
      ]
     },
     "metadata": {},
     "output_type": "display_data"
    },
    {
     "data": {
      "text/markdown": [
       "<span style=\"color:#33cc33\">Correct</span>"
      ],
      "text/plain": [
       "Correct"
      ]
     },
     "metadata": {},
     "output_type": "display_data"
    },
    {
     "data": {
      "image/png": "[encoded data removed]",
      "text/plain": [
       "<Figure size 432x288 with 1 Axes>"
      ]
     },
     "metadata": {
      "needs_background": "light"
     },
     "output_type": "display_data"
    }
   ],
   "source": [
    "# Scatter plot showing the relationship between 'chocolate' and 'winpercent'\n",
    "sns.swarmplot(x=candy_data['chocolate'],y=candy_data['winpercent']) \n",
    "# Your code here\n",
    "\n",
    "# Check your answer\n",
    "step_7.a.check()"
   ]
  },
  {
   "cell_type": "code",
   "execution_count": 23,
   "id": "442166a7",
   "metadata": {
    "execution": {
     "iopub.execute_input": "2022-03-28T17:27:31.883806Z",
     "iopub.status.busy": "2022-03-28T17:27:31.882419Z",
     "iopub.status.idle": "2022-03-28T17:27:31.886110Z",
     "shell.execute_reply": "2022-03-28T17:27:31.886650Z",
     "shell.execute_reply.started": "2022-03-28T17:22:00.229026Z"
    },
    "papermill": {
     "duration": 0.049591,
     "end_time": "2022-03-28T17:27:31.886827",
     "exception": false,
     "start_time": "2022-03-28T17:27:31.837236",
     "status": "completed"
    },
    "tags": []
   },
   "outputs": [],
   "source": [
    "# Lines below will give you a hint or solution code\n",
    "#step_7.a.hint()\n",
    "#step_7.a.solution_plot()"
   ]
  },
  {
   "cell_type": "markdown",
   "id": "2d8b8286",
   "metadata": {
    "papermill": {
     "duration": 0.040112,
     "end_time": "2022-03-28T17:27:31.967701",
     "exception": false,
     "start_time": "2022-03-28T17:27:31.927589",
     "status": "completed"
    },
    "tags": []
   },
   "source": [
    "#### Part B\n",
    "\n",
    "You decide to dedicate a section of your report to the fact that chocolate candies tend to be more popular than candies without chocolate.  Which plot is more appropriate to tell this story: the plot from **Step 6**, or the plot from **Step 7**?"
   ]
  },
  {
   "cell_type": "code",
   "execution_count": 24,
   "id": "bad5c102",
   "metadata": {
    "execution": {
     "iopub.execute_input": "2022-03-28T17:27:32.055540Z",
     "iopub.status.busy": "2022-03-28T17:27:32.054143Z",
     "iopub.status.idle": "2022-03-28T17:27:32.057462Z",
     "shell.execute_reply": "2022-03-28T17:27:32.058012Z",
     "shell.execute_reply.started": "2022-03-28T17:22:00.235112Z"
    },
    "papermill": {
     "duration": 0.048654,
     "end_time": "2022-03-28T17:27:32.058188",
     "exception": false,
     "start_time": "2022-03-28T17:27:32.009534",
     "status": "completed"
    },
    "tags": []
   },
   "outputs": [],
   "source": [
    "#step_7.b.hint()"
   ]
  },
  {
   "cell_type": "code",
   "execution_count": 25,
   "id": "b1effb0b",
   "metadata": {
    "execution": {
     "iopub.execute_input": "2022-03-28T17:27:32.145759Z",
     "iopub.status.busy": "2022-03-28T17:27:32.144783Z",
     "iopub.status.idle": "2022-03-28T17:27:32.149651Z",
     "shell.execute_reply": "2022-03-28T17:27:32.150097Z",
     "shell.execute_reply.started": "2022-03-28T17:26:43.704312Z"
    },
    "papermill": {
     "duration": 0.051339,
     "end_time": "2022-03-28T17:27:32.150255",
     "exception": false,
     "start_time": "2022-03-28T17:27:32.098916",
     "status": "completed"
    },
    "tags": []
   },
   "outputs": [
    {
     "data": {
      "application/javascript": [
       "parent.postMessage({\"jupyterEvent\": \"custom.exercise_interaction\", \"data\": {\"interactionType\": 3, \"questionType\": 4, \"questionId\": \"7.2_ThinkSwarm\", \"learnToolsVersion\": \"0.3.4\", \"valueTowardsCompletion\": 0.0, \"failureMessage\": \"\", \"exceptionClass\": \"\", \"trace\": \"\", \"outcomeType\": 4}}, \"*\")"
      ],
      "text/plain": [
       "<IPython.core.display.Javascript object>"
      ]
     },
     "metadata": {},
     "output_type": "display_data"
    },
    {
     "data": {
      "text/markdown": [
       "<span style=\"color:#33cc99\">Solution:</span> In this case, the categorical scatter plot from **Step 7** is the more appropriate plot. While both plots tell the desired story, the plot from **Step 6** conveys far more information that could distract from the main point."
      ],
      "text/plain": [
       "Solution: In this case, the categorical scatter plot from **Step 7** is the more appropriate plot. While both plots tell the desired story, the plot from **Step 6** conveys far more information that could distract from the main point."
      ]
     },
     "metadata": {},
     "output_type": "display_data"
    }
   ],
   "source": [
    "# Check your answer (Run this code cell to receive credit!)\n",
    "step_7.b.solution()"
   ]
  },
  {
   "cell_type": "markdown",
   "id": "af4befc8",
   "metadata": {
    "papermill": {
     "duration": 0.041491,
     "end_time": "2022-03-28T17:27:32.233506",
     "exception": false,
     "start_time": "2022-03-28T17:27:32.192015",
     "status": "completed"
    },
    "tags": []
   },
   "source": [
    "## Keep going\n",
    "\n",
    "Explore **[histograms and density plots](https://www.kaggle.com/alexisbcook/distributions)**."
   ]
  },
  {
   "cell_type": "markdown",
   "id": "76442b98",
   "metadata": {
    "papermill": {
     "duration": 0.041068,
     "end_time": "2022-03-28T17:27:32.316492",
     "exception": false,
     "start_time": "2022-03-28T17:27:32.275424",
     "status": "completed"
    },
    "tags": []
   },
   "source": [
    "---\n",
    "\n",
    "\n",
    "\n",
    "\n",
    "*Have questions or comments? Visit the [course discussion forum](https://www.kaggle.com/learn/data-visualization/discussion) to chat with other learners.*"
   ]
  }
 ],
 "metadata": {
  "kernelspec": {
   "display_name": "Python 3",
   "language": "python",
   "name": "python3"
  },
  "language_info": {
   "codemirror_mode": {
    "name": "ipython",
    "version": 3
   },
   "file_extension": ".py",
   "mimetype": "text/x-python",
   "name": "python",
   "nbconvert_exporter": "python",
   "pygments_lexer": "ipython3",
   "version": "3.7.12"
  },
  "papermill": {
   "default_parameters": {},
   "duration": 18.86063,
   "end_time": "2022-03-28T17:27:33.071453",
   "environment_variables": {},
   "exception": null,
   "input_path": "__notebook__.ipynb",
   "output_path": "__notebook__.ipynb",
   "parameters": {},
   "start_time": "2022-03-28T17:27:14.210823",
   "version": "2.3.3"
  }
 },
 "nbformat": 4,
 "nbformat_minor": 5
}
